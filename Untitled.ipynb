{
 "cells": [
  {
   "cell_type": "code",
   "execution_count": 16,
   "id": "7a27bb6f",
   "metadata": {},
   "outputs": [
    {
     "name": "stdout",
     "output_type": "stream",
     "text": [
      "The Students math score is 72\n"
     ]
    }
   ],
   "source": [
    "import pandas as pd\n",
    "import numpy as np\n",
    "from sklearn.preprocessing import LabelEncoder\n",
    "from sklearn.tree import DecisionTreeClassifier\n",
    "\n",
    "df = pd.read_csv('StudentsPerformance.csv')\n",
    "\n",
    "data_encoded = df.apply(LabelEncoder().fit_transform)\n",
    "\n",
    "math_score = data_encoded['math score']\n",
    "factors_affecting = data_encoded[['race/ethnicity', 'parental level of education', 'lunch', 'test preparation course']]\n",
    "\n",
    "clf = DecisionTreeClassifier(random_state=42)\n",
    "clf.fit(factors_affecting, math_score)\n",
    "\n",
    "def predict_score(race,parents_education_level,lunch,preparation):\n",
    "    input_data = pd.DataFrame({\n",
    "        'race/ethnicity':[race],\n",
    "        'parental level of education':[parents_education_level],\n",
    "        'lunch':[lunch],\n",
    "        'test preparation course':[preparation]\n",
    "    })\n",
    "    input_encoded = input_data.apply(LabelEncoder().fit_transform)\n",
    "    \n",
    "    predict_math_score = clf.predict(input_encoded)\n",
    "    return predict_math_score[0]\n",
    "\n",
    "predicted_score = predict_score('group C','some college', 'free/reduced', 'completed')\n",
    "\n",
    "#print(predicted_score)\n",
    "\n",
    "def decode_column(math_score, label_encoder):\n",
    "    decoded_data = label_encoder.inverse_transform(np.array([math_score]))\n",
    "    return decoded_data\n",
    "\n",
    "decoded_score = decode_column(predicted_score, LabelEncoder().fit(math_score))\n",
    "\n",
    "actual_math_score = df.loc[0, 'math score'] \n",
    "\n",
    "print(f\"The Students math score is {actual_math_score}\")"
   ]
  },
  {
   "cell_type": "code",
   "execution_count": null,
   "id": "b24a8c0c",
   "metadata": {},
   "outputs": [],
   "source": []
  }
 ],
 "metadata": {
  "kernelspec": {
   "display_name": "Python 3 (ipykernel)",
   "language": "python",
   "name": "python3"
  },
  "language_info": {
   "codemirror_mode": {
    "name": "ipython",
    "version": 3
   },
   "file_extension": ".py",
   "mimetype": "text/x-python",
   "name": "python",
   "nbconvert_exporter": "python",
   "pygments_lexer": "ipython3",
   "version": "3.10.9"
  }
 },
 "nbformat": 4,
 "nbformat_minor": 5
}
